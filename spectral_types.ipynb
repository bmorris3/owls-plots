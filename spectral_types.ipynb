{
 "cells": [
  {
   "cell_type": "markdown",
   "id": "fe8d2e1c-15ad-4a49-bd21-26a0b22b4096",
   "metadata": {},
   "source": [
    "# How do $S$ and $\\log R^\\prime_{HK}$ vary within bins of spectral type?"
   ]
  },
  {
   "cell_type": "code",
   "execution_count": null,
   "id": "d07d1ac3-314b-437f-8f34-6af2b35fe894",
   "metadata": {},
   "outputs": [],
   "source": [
    "%matplotlib inline\n",
    "%config InlineBackend.figure_format = 'retina'\n",
    "\n",
    "import numpy as np\n",
    "import matplotlib.pyplot as plt\n",
    "from matplotlib.gridspec import GridSpec\n",
    "\n",
    "from glob import glob\n",
    "from tqdm import tqdm\n",
    "import pandas as pd\n",
    "import os\n",
    "\n",
    "import astropy.units as u\n",
    "from astropy.table import Table\n",
    "from astropy.time import Time\n",
    "\n",
    "from astroquery.nasa_exoplanet_archive import NasaExoplanetArchive"
   ]
  },
  {
   "cell_type": "code",
   "execution_count": null,
   "id": "3854c56d-7c34-41d2-92f3-3d68e503269d",
   "metadata": {},
   "outputs": [],
   "source": [
    "owls_sindices = pd.read_pickle('data/db.pkl')"
   ]
  },
  {
   "cell_type": "code",
   "execution_count": null,
   "id": "b3794ec3-1142-479c-8fa9-9e901c71c47d",
   "metadata": {},
   "outputs": [],
   "source": [
    "url = (\n",
    "    'https://docs.google.com/spreadsheets/d/'\n",
    "    '11Z7B76FXBkEwcGmhp72sC6AQdP8ER8K_eU5RAW8ed2M'\n",
    "    '/gviz/tq?tqx=out:csv&sheet=catalog'\n",
    ")\n",
    "owls_sheet = pd.read_csv(url)"
   ]
  },
  {
   "cell_type": "code",
   "execution_count": null,
   "id": "75d9520b-b087-41ae-93a6-f901b3a24e78",
   "metadata": {},
   "outputs": [],
   "source": [
    "notes_column = owls_sheet['Unnamed: 11']\n",
    "owls_sheet_baliunas = owls_sheet#[notes_column == 'Baliunas']"
   ]
  },
  {
   "cell_type": "code",
   "execution_count": null,
   "id": "9f251e59-74be-4b6a-a255-b22f3bf42f8a",
   "metadata": {},
   "outputs": [],
   "source": [
    "bins = [0.5 , 0.75, 1.  , 1.7 , 5.  ]\n",
    "nbins = len(bins) - 1\n",
    "cut = pd.cut(owls_sheet_baliunas['BP'].fillna(0) - owls_sheet_baliunas['RP'].fillna(0), bins)\n",
    "owls_sheet_baliunas['color_bins'] = cut"
   ]
  },
  {
   "cell_type": "code",
   "execution_count": null,
   "id": "12e13999-1c9c-40f7-85f9-260dc8d07415",
   "metadata": {},
   "outputs": [],
   "source": [
    "gs = GridSpec(3*nbins, 1)\n",
    "fig = plt.figure(figsize=(8, 10))\n",
    "\n",
    "s0 = fig.add_subplot(gs[0])\n",
    "r0 = fig.add_subplot(gs[1])\n",
    "\n",
    "ax = [s0, r0] + [fig.add_subplot(gs[i]) for i in range(2, 3*nbins)]\n",
    "\n",
    "for j in range(3):\n",
    "    for i, spt in enumerate(\"F G K M\".split()):\n",
    "        group = owls_sheet[[s.startswith(spt) if (not str(s) == 'nan') else False for s in owls_sheet['sp_type_mamajek']]]\n",
    "\n",
    "        colors = group['BP'] - group['RP']\n",
    "        sptype = group['SP_TYPE']\n",
    "        log_rprime = group['log R\\'_HK']\n",
    "        counter = 0\n",
    "        target_labels = []\n",
    "        target_sinds = []\n",
    "        target_sptypes = []\n",
    "        target_flags = []\n",
    "        target_colors = []\n",
    "        target_rprime = []\n",
    "        baliunas_flag = group['Unnamed: 11'] == 'Baliunas'\n",
    "\n",
    "        for target, c, s, f, r in zip(group['pl_hostname'], colors, sptype, baliunas_flag, log_rprime):\n",
    "            if target in owls_sindices.index.get_level_values(0):\n",
    "                counter += 1\n",
    "                sinds = owls_sindices.loc[target]['S']\n",
    "                target_sinds.append(sinds)\n",
    "                target_labels.append(target)\n",
    "                target_sptypes.append(s)\n",
    "                target_flags.append(f)\n",
    "                target_colors.append(c)\n",
    "                target_rprime.append(r)\n",
    "\n",
    "        sort = np.argsort(target_colors)\n",
    "        y = np.array([ts.values for ts in target_sinds], dtype=object)[sort]\n",
    "        sorted_labels = np.array(target_labels, dtype=object)[sort]\n",
    "        sorted_spt = np.array(target_sptypes, dtype=object)[sort]\n",
    "        sorted_flags = np.array(target_flags, dtype=object)[sort]\n",
    "        sorted_rprime = np.array(target_rprime, dtype=object)[sort]\n",
    "        \n",
    "        ax_ind = 3*i + j\n",
    "        \n",
    "        xticks = []\n",
    "        xticklabels = []\n",
    "        sptticklabels = []\n",
    "        for c, yi, name, s, f, r in zip(np.arange(counter), y, sorted_labels, sorted_spt, sorted_flags, sorted_rprime):\n",
    "            if j == 0:\n",
    "                # Plot S indices\n",
    "                ax[ax_ind].semilogy(c * np.ones_like(yi), yi, 'o' if not f else 's', ms=5, color='k' if not f else 'r', rasterized=True)\n",
    "            elif j == 1: \n",
    "                # Plot Rprime\n",
    "                ax[ax_ind].plot(c * np.ones_like(r), r, 'o' if not f else 's', ms=5, color='k' if not f else 'r', rasterized=True)\n",
    "\n",
    "            xticks.append(c)\n",
    "            xticklabels.append(name)\n",
    "            sptticklabels.append(s)\n",
    "\n",
    "        # Egeland 2017 solar S-index range\n",
    "        if j == 0:\n",
    "            ax[ax_ind].set_title(spt)\n",
    "            ax[ax_ind].set_xticks(xticks)\n",
    "            ax[ax_ind].set_ylim([0.1, 20])\n",
    "            ax[ax_ind].axhspan(0.16, 0.18, alpha=0.2)\n",
    "            ax[ax_ind].set_ylabel(r'$S$')\n",
    "            ax[ax_ind].set_xticklabels([])\n",
    "\n",
    "        elif j == 1:\n",
    "            ax[ax_ind].axhspan(-4.98, -4.9, alpha=0.2)\n",
    "            ax[ax_ind].set_ylim([-5.1, -3])\n",
    "            ax[ax_ind].set_ylabel(r'$\\log R^\\prime_{{HK}}$')\n",
    "            ax[ax_ind].set_xticks(xticks)\n",
    "            ax[ax_ind].set_xticklabels(xticklabels, rotation=90, ha='center', fontsize=4)\n",
    "            \n",
    "        elif ax_ind < len(ax): \n",
    "            ax[ax_ind].axis('off')\n",
    "\n",
    "fig.savefig('plots/activity_spectral_sequence.pdf', dpi=200, bbox_inches='tight')"
   ]
  },
  {
   "cell_type": "code",
   "execution_count": null,
   "id": "fe35c117-bbc4-4e0e-9393-0dfd78d0a8ea",
   "metadata": {},
   "outputs": [],
   "source": []
  }
 ],
 "metadata": {
  "kernelspec": {
   "display_name": "Python 3 (ipykernel)",
   "language": "python",
   "name": "python3"
  },
  "language_info": {
   "codemirror_mode": {
    "name": "ipython",
    "version": 3
   },
   "file_extension": ".py",
   "mimetype": "text/x-python",
   "name": "python",
   "nbconvert_exporter": "python",
   "pygments_lexer": "ipython3",
   "version": "3.9.13"
  }
 },
 "nbformat": 4,
 "nbformat_minor": 5
}

{
 "cells": [
  {
   "cell_type": "markdown",
   "id": "392c0f2c-31a7-42a7-bc11-c92aac9e7c5e",
   "metadata": {},
   "source": [
    "# How do the $S$-indices look across planet properties?"
   ]
  },
  {
   "cell_type": "code",
   "execution_count": null,
   "id": "ecf35914-a620-4936-9b48-a3c167e0347b",
   "metadata": {},
   "outputs": [],
   "source": [
    "%matplotlib inline\n",
    "%config InlineBackend.figure_format = 'retina'\n",
    "\n",
    "import numpy as np\n",
    "import matplotlib.pyplot as plt\n",
    "from matplotlib.gridspec import GridSpec\n",
    "from scipy.interpolate import LinearNDInterpolator\n",
    "\n",
    "from glob import glob\n",
    "from tqdm import tqdm\n",
    "import pandas as pd\n",
    "import os\n",
    "\n",
    "import astropy.units as u\n",
    "from astropy.constants import M_jup, M_sun\n",
    "from astropy.time import Time\n",
    "from astropy.table import Table, join\n",
    "from astropy.coordinates import SkyCoord, search_around_sky\n",
    "\n",
    "from astroquery.nasa_exoplanet_archive import NasaExoplanetArchive"
   ]
  },
  {
   "cell_type": "code",
   "execution_count": null,
   "id": "bfa2d339-d9a5-4c56-bbdb-6d334108bd36",
   "metadata": {},
   "outputs": [],
   "source": [
    "planets = NasaExoplanetArchive.query_criteria(table='pscomppars', cache=True)\n",
    "planets.add_index('hostname')"
   ]
  },
  {
   "cell_type": "code",
   "execution_count": null,
   "id": "bcc64366-cad8-4b0c-a186-bb4d9666169e",
   "metadata": {},
   "outputs": [],
   "source": [
    "owls_sindices = pd.read_pickle('data/db.pkl')"
   ]
  },
  {
   "cell_type": "code",
   "execution_count": null,
   "id": "65df4c56-548b-4a40-a08d-6080ebd4c022",
   "metadata": {},
   "outputs": [],
   "source": [
    "url = (\n",
    "    'https://docs.google.com/spreadsheets/d/'\n",
    "    '11Z7B76FXBkEwcGmhp72sC6AQdP8ER8K_eU5RAW8ed2M'\n",
    "    '/gviz/tq?tqx=out:csv&sheet=catalog'\n",
    ")\n",
    "owls_sheet = pd.read_csv(url)"
   ]
  },
  {
   "cell_type": "code",
   "execution_count": null,
   "id": "96252ded-5256-4aca-bdd7-df19b7582838",
   "metadata": {},
   "outputs": [],
   "source": [
    "notes_column = owls_sheet['Unnamed: 11']\n",
    "owls_sheet_baliunas = owls_sheet#[notes_column == 'Baliunas']"
   ]
  },
  {
   "cell_type": "code",
   "execution_count": null,
   "id": "8a421f94-6583-4616-8d4a-6cf58facbf0e",
   "metadata": {},
   "outputs": [],
   "source": [
    "planet_coords = SkyCoord(ra=planets['ra'], dec=planets['dec'])\n",
    "owls_coords = SkyCoord(ra=owls_sheet['ra'], dec=owls_sheet['dec'], unit=(u.hourangle, u.deg))\n",
    "\n",
    "owls_cols = list(owls_sheet.columns)\n",
    "idx1, idx2 = search_around_sky(owls_coords, planet_coords, 2*u.arcmin)[:2]\n",
    "\n",
    "planets_cols = list(pd.Series(planets.colnames).drop_duplicates().values) #list(planets.colnames) + ['pl_hostname']\n",
    "\n",
    "# Find planets that have matching OWLS coordinates within 5 arcsec\n",
    "owls_sheet_reind = owls_sheet[owls_cols]\n",
    "owls_sheet_reind.index = np.arange(len(owls_sheet_reind))\n",
    "\n",
    "owls_planets = pd.merge(\n",
    "    owls_sheet_reind, planets[idx2][planets_cols].to_pandas(), left_on='pl_hostname', right_on='hostname'# levels=['pl_hostname', 'pl_name']\n",
    ")\n",
    "owls_planets.index = owls_planets['pl_letter']\n",
    "groups = dict()\n",
    "for name, group in owls_planets.groupby('pl_hostname'):\n",
    "    groups[name] = group.reindex(index=list(group['pl_letter']))\n",
    "owls_planets = pd.concat(groups)"
   ]
  },
  {
   "cell_type": "code",
   "execution_count": null,
   "id": "27869a6d-790a-4a97-b5b2-a947b95d464f",
   "metadata": {},
   "outputs": [],
   "source": [
    "planet_coords = SkyCoord(ra=planets['ra'], dec=planets['dec'])\n",
    "owls_coords = SkyCoord(ra=owls_sheet['ra'], dec=owls_sheet['dec'], unit=(u.hourangle, u.deg))"
   ]
  },
  {
   "cell_type": "code",
   "execution_count": null,
   "id": "2acc8c5c-b313-4d82-b3d5-010758c93b0c",
   "metadata": {},
   "outputs": [],
   "source": [
    "idx1, idx2 = search_around_sky(owls_coords, planet_coords, 2*u.arcmin)[:2]"
   ]
  },
  {
   "cell_type": "code",
   "execution_count": null,
   "id": "3b0dca54-9a87-4810-8b0d-1dbc4ad34e6c",
   "metadata": {},
   "outputs": [],
   "source": [
    "owls_cols = list(owls_sheet.columns)\n",
    "\n",
    "planets_cols = list(pd.Series(planets.colnames).drop_duplicates().values) #list(planets.colnames) + ['pl_hostname']\n",
    "drop_planets_keys = list(set(owls_sheet_reind.columns).intersection(set(planets.colnames)))\n",
    "for k in drop_planets_keys:\n",
    "    planets_cols.pop(planets_cols.index(k))"
   ]
  },
  {
   "cell_type": "code",
   "execution_count": null,
   "id": "8f73a959-24fc-4026-abaa-f3130128f14b",
   "metadata": {},
   "outputs": [],
   "source": [
    "# Find planets that have matching OWLS coordinates within 5 arcsec\n",
    "owls_sheet_reind = owls_sheet[owls_cols] # .iloc[idx1]\n",
    "owls_sheet_reind.index = np.arange(len(owls_sheet_reind)) #planets[idx2]['pl_name'].value\n",
    "\n",
    "owls_planets = pd.merge(\n",
    "    owls_sheet_reind, planets[idx2][planets_cols].to_pandas(), left_on='pl_hostname', right_on='hostname'# levels=['pl_hostname', 'pl_name']\n",
    ")\n",
    "owls_planets.index = owls_planets['pl_letter']\n",
    "groups = dict()\n",
    "for name, group in owls_planets.groupby('pl_hostname'):\n",
    "    groups[name] = group.reindex(index=list(group['pl_letter']))\n",
    "owls_planets = pd.concat(groups)"
   ]
  },
  {
   "cell_type": "code",
   "execution_count": null,
   "id": "cc9a95c8-ca3e-4d40-bb89-c1c4ea13c15f",
   "metadata": {},
   "outputs": [],
   "source": [
    "short_prot_flag = (\n",
    "    (~np.isnan(owls_planets['st_rotp']) & \n",
    "     (owls_planets['st_rotp'] < 10)) | \n",
    "    ((owls_planets['Prot_phot_days'] < 10) & \n",
    "     (owls_planets['Prot_phot_days'] > 0))\n",
    ")\n",
    "\n",
    "short_prot_flag_planet_bs = (\n",
    "    (~np.isnan(owls_planets[owls_planets['pl_letter'] == 'b']['st_rotp']) & \n",
    "     (owls_planets[owls_planets['pl_letter'] == 'b']['st_rotp'] < 10)) | \n",
    "    ((owls_planets[owls_planets['pl_letter'] == 'b']['Prot_phot_days'] < 10) & \n",
    "     (owls_planets[owls_planets['pl_letter'] == 'b']['Prot_phot_days'] > 0))\n",
    ")"
   ]
  },
  {
   "cell_type": "code",
   "execution_count": null,
   "id": "1adfc24f-aa21-4dd3-b09b-87fcf43cb77a",
   "metadata": {},
   "outputs": [],
   "source": [
    "vansaders2012 = Table.read(\"data/vanSaders2012.txt\", format='ascii')"
   ]
  },
  {
   "cell_type": "code",
   "execution_count": null,
   "id": "8580c351-71ff-41f6-a96a-867cd1b8ad6e",
   "metadata": {},
   "outputs": [],
   "source": [
    "tmp = vansaders2012[['Mass', 'Age', 'Teff']]"
   ]
  },
  {
   "cell_type": "code",
   "execution_count": null,
   "id": "932967a3-bf98-4086-bf80-2d424e18b749",
   "metadata": {},
   "outputs": [],
   "source": [
    "arr = vansaders2012[['Mass', 'Age', 'Teff']]\n",
    "arr.sort(\"Mass\")\n",
    "arr = arr.as_array()\n",
    "\n",
    "# make uniform ages for each target by taking mean of all available refs\n",
    "for target, group in owls_planets.groupby('hostname'):\n",
    "    owls_planets.loc[target, 'st_age'] = group['st_age'].mean()"
   ]
  },
  {
   "cell_type": "code",
   "execution_count": null,
   "id": "d6f91fb3-7022-4bb1-90d0-d40d4c8da5dc",
   "metadata": {},
   "outputs": [],
   "source": [
    "ncols = 32\n",
    "dtypes = ncols * [float,]\n",
    "dtypes[0] = \"U16\"\n",
    "dtypes[-1] = \"U16\"\n",
    "\n",
    "colnames = \"SpT   Teff  logT   BCv    logL   Mbol R_Rsun   Mv    B-V    Bt-Vt  G-V    Bp-Rp  G-Rp   M_G    b-y    U-B    V-Rc   V-Ic   V-Ks   J-H    H-Ks   M_J    M_Ks   Ks-W1   W1-W2  W1-W3  W1-W4   g-r   i-z  z-Y  Msun SpT2\".split()\n",
    "\n",
    "mamajek = Table(np.genfromtxt(\"data/EEM_dwarf_UBVIJHK_colors_Teff.txt\", dtype=dtypes), names=colnames)\n",
    "mamajek.add_index(\"SpT\")\n",
    "estimated_owls_teffs = mamajek.loc[[s if not s.endswith('e') else s[:-1] for s in owls_planets['sp_type_mamajek']]]['Teff'].data\n",
    "estimated_owls_mass = mamajek.loc[[s if not s.endswith('e') else s[:-1] for s in owls_planets['sp_type_mamajek']]]['Msun'].data\n",
    "\n",
    "owls_planets['st_teff_mamajek'] = estimated_owls_teffs\n",
    "owls_planets['st_mass_mamajek'] = estimated_owls_mass"
   ]
  },
  {
   "cell_type": "code",
   "execution_count": null,
   "id": "256658de-f167-4f9c-bd03-3db3c7a6953c",
   "metadata": {},
   "outputs": [],
   "source": [
    "interp = LinearNDInterpolator(\n",
    "    np.vstack(arr.tolist()), vansaders2012['Rcz/R'].data, rescale=True, \n",
    "    # fill the rest with unity since they're likely fully convective stars\n",
    "    fill_value=1\n",
    ")\n",
    "\n",
    "epsilons = []\n",
    "for i, table in enumerate([planets.to_pandas(), owls_planets]):\n",
    "    # feh = owls_planets['st_met'].values\n",
    "    st_mass = table['st_mass'].values\n",
    "    st_age = table['st_age'].values\n",
    "    st_teff = table['st_teff'].values\n",
    "    \n",
    "    if i == 0:\n",
    "        st_mass[np.isnan(st_mass)] = 1\n",
    "        st_age[np.isnan(st_age)] = 10\n",
    "        st_teff[np.isnan(st_teff)] = 5700\n",
    "\n",
    "    else:\n",
    "        st_mass[np.isnan(st_mass)] = owls_planets['st_mass_mamajek'].iloc[np.isnan(st_mass)]\n",
    "        st_age[np.isnan(st_age)] = 10\n",
    "        st_teff[np.isnan(st_teff)] = owls_planets['st_teff_mamajek'].iloc[np.isnan(st_teff)]\n",
    "        \n",
    "    Rcz = interp(st_mass, st_age, st_teff)\n",
    "    rad_unit = float(1 * u.R_sun / u.AU)\n",
    "    mass_unit = float(1 * u.M_jup / u.M_sun)\n",
    "    planet_mass = table['pl_bmassj']\n",
    "    stellar_radius = table['st_rad']\n",
    "    smax = table['pl_orbsmax']\n",
    "    \n",
    "    epsilon = (\n",
    "        (mass_unit * planet_mass / st_mass) * \n",
    "        (rad_unit * Rcz * stellar_radius / smax) ** 3\n",
    "    )\n",
    "    # print(epsilon)\n",
    "\n",
    "    epsilons.append(pd.Series(epsilon, table.index))"
   ]
  },
  {
   "cell_type": "code",
   "execution_count": null,
   "id": "c8075da0-7084-483b-a77f-7675dc0c7e63",
   "metadata": {},
   "outputs": [],
   "source": [
    "vmin = -5.2\n",
    "vmax = -3.8\n",
    "\n",
    "fig, ax = plt.subplots(figsize=(8, 5))#, sharey=True)\n",
    "ax = [ax]\n",
    "# Filter out the masses in the table that are \"predictions\" rather than measurements\n",
    "measured = [\"CALCULATED\" not in s.upper() for s in planets['pl_bmassj_reflink']]\n",
    "measured_owls = [\"CALCULATED\" not in s.upper() for s in owls_planets['pl_bmassj_reflink']]\n",
    "ax[0].loglog(planets.iloc[measured]['pl_orbper'], planets.iloc[measured]['pl_bmassj'], '.', \n",
    "             color='silver', alpha=0.2, label='Confirmed planets')\n",
    "c = ax[0].scatter(\n",
    "    owls_planets.iloc[measured_owls]['pl_orbper'], owls_planets.iloc[measured_owls]['pl_bmassj'], \n",
    "    c=owls_planets.iloc[measured_owls]['log R\\'_HK'], vmin=vmin, vmax=vmax,\n",
    "    marker='o', label='OWLS planet hosts', zorder=10)\n",
    "cbar = plt.colorbar(c, label=r'$\\log R^\\prime_{HK}$', extend='both', ax=ax[0], use_gridspec=True)\n",
    "\n",
    "ax[0].legend()\n",
    "ax[0].set(\n",
    "    xlim=[0.1, 1e4],\n",
    "    xlabel='Orbital Period [d]',\n",
    "    ylabel='M$_{\\\\rm p}$ [$M_J$]'\n",
    ")\n",
    "\n",
    "fig, ax = plt.subplots(figsize=(8, 5))#, sharey=True)\n",
    "ax = [None, ax]\n",
    "bottom = -5.2\n",
    "lower_log_eps = -20\n",
    "ax2 = ax[1].twinx()\n",
    "ax2.hist(\n",
    "    np.log10(epsilons[0]), 25, range=[lower_log_eps, 0],\n",
    "    label='Confirmed planets', # bottom=bottom, \n",
    "    color='silver', zorder=0, alpha=0.2, log=True\n",
    ")\n",
    "ax2.hist(\n",
    "    np.log10(epsilons[1]), 15, range=[lower_log_eps, 0],\n",
    "    label='OWLS planets', # bottom=bottom, \n",
    "    color='k', zorder=1, histtype='step', log=True\n",
    ")\n",
    "ax2.legend(loc='upper left')\n",
    "\n",
    "solar_bp_rp = 0.823\n",
    "c = ax[1].scatter(\n",
    "    np.log10(epsilons[1]), owls_planets['log R\\'_HK'], \n",
    "    c=owls_planets['BP']- owls_planets['RP'], marker='o', label='OWLS planets', zorder=2, \n",
    "    vmin=-0.25, vmax=2.5, cmap=plt.cm.RdYlBu_r, edgecolor='k'\n",
    ")\n",
    "cbar = plt.colorbar(c, label=r'$\\rm G_{BP} - G_{RP}$', extend='both', ax=ax[1], use_gridspec=True, pad=0.08)\n",
    "\n",
    "ax[1].legend()\n",
    "ax[1].set(\n",
    "    xlim=[lower_log_eps, 0],\n",
    "    ylim=[bottom, -3.5],\n",
    "    xlabel='$\\\\log_{10} \\\\epsilon$',\n",
    "    ylabel=r'$\\log R^\\prime_{HK}$'\n",
    ")\n",
    "ax2.set(\n",
    "    ylim=[1, 1.5e3]\n",
    ")\n",
    "\n",
    "plt.savefig('plots/correlations.pdf')"
   ]
  },
  {
   "cell_type": "code",
   "execution_count": null,
   "id": "6fac560f-b769-4a2b-b02e-79a9d7dd501d",
   "metadata": {},
   "outputs": [],
   "source": []
  }
 ],
 "metadata": {
  "kernelspec": {
   "display_name": "Python 3 (ipykernel)",
   "language": "python",
   "name": "python3"
  },
  "language_info": {
   "codemirror_mode": {
    "name": "ipython",
    "version": 3
   },
   "file_extension": ".py",
   "mimetype": "text/x-python",
   "name": "python",
   "nbconvert_exporter": "python",
   "pygments_lexer": "ipython3",
   "version": "3.9.13"
  }
 },
 "nbformat": 4,
 "nbformat_minor": 5
}

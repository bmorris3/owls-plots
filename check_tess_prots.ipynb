{
 "cells": [
  {
   "cell_type": "code",
   "execution_count": null,
   "id": "ca66b6a8-2c75-4599-9b35-37eaa42e845f",
   "metadata": {},
   "outputs": [],
   "source": [
    "%matplotlib widget\n",
    "\n",
    "from tqdm.notebook import tqdm\n",
    "\n",
    "import numpy as np\n",
    "\n",
    "from matplotlib.gridspec import GridSpec\n",
    "import matplotlib.pyplot as plt\n",
    "\n",
    "from lightkurve.search import search_lightcurve\n",
    "\n",
    "import astropy.units as u\n",
    "\n",
    "import ipywidgets as widgets\n",
    "from IPython.display import display"
   ]
  },
  {
   "cell_type": "markdown",
   "id": "52574186-039f-4850-96c7-f809e222b282",
   "metadata": {},
   "source": [
    "The following \"reliable\" target list was provided by Kathryn Jones after measuring the Wilson-Bappu relation from OWLS spectra. Targets that appear in this list have \"believable\" measurements after checking the CaII K line width by eye."
   ]
  },
  {
   "cell_type": "code",
   "execution_count": null,
   "id": "c88ace7e-12ec-45f5-8bd5-dc55dae6d351",
   "metadata": {},
   "outputs": [],
   "source": [
    "reliable_wilsonbappu_from_kathyrn = \"\"\"GJ182\n",
    "TOI2279\n",
    "HD189733\n",
    "WASP-84\n",
    "K2-100\n",
    "HAT-P-22\n",
    "TOI1807\n",
    "HD78366\n",
    "K2-182\n",
    "TOI1416\n",
    "HD26923\n",
    "K2-275\n",
    "TOI1411\n",
    "Qatar-6\n",
    "TOI1410\n",
    "HD3167\n",
    "HIP116454\n",
    "TOI2431\n",
    "TOI1801\n",
    "TOI2318\n",
    "HD26913\n",
    "DSLeo\n",
    "TOI2018\n",
    "HD115043\n",
    "HD72905\n",
    "GJ490A\n",
    "K2-184\n",
    "hd25998\n",
    "HD131156A\n",
    "HD75332\n",
    "HD97658\n",
    "WASP-69\n",
    "hd26913\n",
    "hd82443\n",
    "TOI2009\n",
    "K2-291\n",
    "TOI1683\n",
    "HD25998\n",
    "HD131156B\n",
    "HD129333\n",
    "GJ140A\n",
    "HD97334\n",
    "K2-136\n",
    "HD88737\n",
    "TOI1563\n",
    "K2-141\n",
    "HD39587\n",
    "HAT-P-11\"\"\""
   ]
  },
  {
   "cell_type": "markdown",
   "id": "245fd809-9994-4bc3-9792-f904e9da3c40",
   "metadata": {},
   "source": [
    "Make these names closer to the names as they appear on SIMBAD by adding spaces back in:"
   ]
  },
  {
   "cell_type": "code",
   "execution_count": null,
   "id": "2eae5cc3-04e8-490a-8417-086f034ab53a",
   "metadata": {},
   "outputs": [],
   "source": [
    "def add_spaces(string):\n",
    "    return string.upper().replace(\"GJ\", \"GJ \").replace(\"HD\", \"HD \").replace(\"TOI\", \"TOI \")\n",
    "\n",
    "target_list = [add_spaces(name) for name in reliable_wilsonbappu_from_kathyrn.splitlines()]"
   ]
  },
  {
   "cell_type": "code",
   "execution_count": null,
   "id": "7da9de92-8528-4d2a-817a-7c74b0c48a0b",
   "metadata": {},
   "outputs": [],
   "source": [
    "\n",
    "reliable_targets = set()\n",
    "prots = dict()\n",
    "target_lines = dict()\n",
    "\n",
    "pbar = tqdm(target_list)\n",
    "\n",
    "for target in pbar:\n",
    "    pbar.set_description(target)\n",
    "    \n",
    "    s = search_lightcurve(\n",
    "        target, mission='TESS', author=\"SPOC\"\n",
    "    ).download_all(\n",
    "        time_column='bjd', flux_column='sap_flux'\n",
    "    )\n",
    "\n",
    "    if s is not None:\n",
    "        \n",
    "        lc = s.stitch().remove_outliers().remove_nans()\n",
    "\n",
    "        x = lc.time.jd-lc.time.jd.mean()\n",
    "        lc.flux /= np.polyval(np.polyfit(x, lc.flux.value, 3), x)\n",
    "\n",
    "        periodogram_kwargs = dict(\n",
    "            minimum_period=1*u.day, maximum_period=40*u.day, \n",
    "            nyquist_factor=100, nterms=2, ls_method='fastchi2'\n",
    "        )\n",
    "        ls = lc.to_periodogram(**periodogram_kwargs)\n",
    "\n",
    "        fig = plt.figure(figsize=(10, 5))\n",
    "        gs = GridSpec(2, 2, figure=fig)\n",
    "        ax = [\n",
    "            fig.add_subplot(gs[0, :]),\n",
    "            fig.add_subplot(gs[1, 0]),\n",
    "            fig.add_subplot(gs[1, 1]),\n",
    "        ]\n",
    "        line0, = ax[0].plot(lc.time.jd - 2457000, lc.flux.value, ',k')\n",
    "\n",
    "        line1, = ax[1].semilogx(1 / ls.frequency, ls.power, 'k')\n",
    "        best_period = ls.period[np.nanargmax(ls.power)]\n",
    "        ax[1].axvline(best_period.to(u.day).value, color='r', ls='--')\n",
    "\n",
    "        fig.suptitle(f'{target}\\n P={best_period}')\n",
    "        ax[1].set_xscale('log')\n",
    "        ax[1].set(\n",
    "            xlabel='Period [d]', ylabel='L-S Power'\n",
    "        )\n",
    "\n",
    "        ax[0].plot(lc.time.jd - 2457000, ls.model(lc.time).flux, ',r')\n",
    "\n",
    "        rot_phase = ((lc.time.jd - 2457000) % best_period.to(u.day).value) / best_period.to(u.day).value\n",
    "        line2, = ax[2].plot(rot_phase, lc.flux.value, ',k')\n",
    "        ax[2].plot(rot_phase, ls.model(lc.time).flux, '.r')\n",
    "        \n",
    "        ax[2].set(\n",
    "            xlabel='Rot Phase', ylabel='Flux'\n",
    "        )\n",
    "        \n",
    "        target_lines[target] = [line0, line1, line2]\n",
    "        \n",
    "        def plot_function_i(reliable=False, target=target):\n",
    "            if reliable:\n",
    "                for line in target_lines[target]:\n",
    "                    line.set_color('g')\n",
    "                reliable_targets.add(target)\n",
    "            else: \n",
    "                for line in target_lines[target]:\n",
    "                    line.set_color('k')\n",
    "                reliable_targets.remove(target)\n",
    "\n",
    "        widget = widgets.interactive(plot_function_i, reliable=False, target=target, __line=line)\n",
    "        controls = widgets.HBox(widget.children[:-1], layout = widgets.Layout(flex_flow='row wrap'))\n",
    "        output = widget.children[-1]\n",
    "        display(widgets.VBox([controls, output], layout = widgets.Layout(flex_flow='row wrap')))\n",
    "        fig.tight_layout()\n",
    "        fig.canvas.show()\n",
    "        \n",
    "        prots[target] = best_period\n",
    "    pbar.update()"
   ]
  },
  {
   "cell_type": "code",
   "execution_count": null,
   "id": "57e053a9-e2f8-4013-aaaf-fbb05f4dbcb5",
   "metadata": {},
   "outputs": [],
   "source": [
    "reliable_targets"
   ]
  },
  {
   "cell_type": "code",
   "execution_count": null,
   "id": "15e21a7a-eba6-4fe9-8a7d-e1805b25c5c1",
   "metadata": {},
   "outputs": [],
   "source": [
    "from astropy.table import QTable\n",
    "\n",
    "table = QTable(\n",
    "    rows=[[n.replace(\" \", \"\"), np.round(p.value, decimals=1)] \n",
    "          for n, p in prots.items() if n in reliable_targets], \n",
    "    names=['Target', 'Prot'], units=[None, u.day]\n",
    ")"
   ]
  },
  {
   "cell_type": "code",
   "execution_count": null,
   "id": "dd059f01-3498-4fd7-a7c7-779a15b0d8b3",
   "metadata": {},
   "outputs": [],
   "source": [
    "table.pprint(max_lines=50)"
   ]
  },
  {
   "cell_type": "code",
   "execution_count": null,
   "id": "ec2b618b-b601-493b-9f06-ca8a4a686576",
   "metadata": {},
   "outputs": [],
   "source": [
    "table.write('reliable_prots_for_wilson_bappu.csv')"
   ]
  },
  {
   "cell_type": "code",
   "execution_count": null,
   "id": "7a487531-5755-4112-93ad-f13217a8e7de",
   "metadata": {},
   "outputs": [],
   "source": []
  }
 ],
 "metadata": {
  "kernelspec": {
   "display_name": "Python 3",
   "language": "python",
   "name": "python3"
  },
  "language_info": {
   "codemirror_mode": {
    "name": "ipython",
    "version": 3
   },
   "file_extension": ".py",
   "mimetype": "text/x-python",
   "name": "python",
   "nbconvert_exporter": "python",
   "pygments_lexer": "ipython3",
   "version": "3.7.3"
  }
 },
 "nbformat": 4,
 "nbformat_minor": 5
}

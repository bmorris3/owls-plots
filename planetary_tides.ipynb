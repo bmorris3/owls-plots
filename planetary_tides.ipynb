{
 "cells": [
  {
   "cell_type": "code",
   "execution_count": null,
   "id": "5cedd376-bd46-4d4b-b3dc-c2238decf607",
   "metadata": {},
   "outputs": [],
   "source": [
    "%matplotlib inline\n",
    "%config InlineBackend.figure_format = 'retina'\n",
    "\n",
    "import matplotlib.pyplot as plt\n",
    "import numpy as np\n",
    "from scipy.interpolate import LinearNDInterpolator\n",
    "\n",
    "from glob import glob\n",
    "from tqdm import tqdm\n",
    "import pandas as pd\n",
    "import os\n",
    "\n",
    "import astropy.units as u\n",
    "from astropy.constants import M_jup, M_sun\n",
    "from astropy.time import Time\n",
    "from astropy.table import Table, join\n",
    "from astropy.coordinates import SkyCoord, search_around_sky\n",
    "\n",
    "from astroquery.nasa_exoplanet_archive import NasaExoplanetArchive"
   ]
  },
  {
   "cell_type": "code",
   "execution_count": null,
   "id": "62f5b0eb-0436-46ec-b77f-265b2d56fc42",
   "metadata": {},
   "outputs": [],
   "source": [
    "planets = NasaExoplanetArchive.query_criteria(table='pscomppars', cache=True)\n",
    "planets.add_index('hostname')"
   ]
  },
  {
   "cell_type": "code",
   "execution_count": null,
   "id": "3b3ac8aa-dd21-4b75-81f8-6247c061d4e2",
   "metadata": {},
   "outputs": [],
   "source": [
    "owls_sindices = pd.read_pickle('data/db.pkl')"
   ]
  },
  {
   "cell_type": "code",
   "execution_count": null,
   "id": "d6681b13-8225-4c7f-9f89-2b9714a3c010",
   "metadata": {},
   "outputs": [],
   "source": [
    "url = (\n",
    "    'https://docs.google.com/spreadsheets/d/'\n",
    "    '11Z7B76FXBkEwcGmhp72sC6AQdP8ER8K_eU5RAW8ed2M'\n",
    "    '/gviz/tq?tqx=out:csv&sheet=catalog'\n",
    ")\n",
    "owls_sheet = pd.read_csv(url)"
   ]
  },
  {
   "cell_type": "code",
   "execution_count": null,
   "id": "e318755b-3271-449f-a787-8e92521ec310",
   "metadata": {},
   "outputs": [],
   "source": [
    "planet_coords = SkyCoord(ra=planets['ra'], dec=planets['dec'])\n",
    "owls_coords = SkyCoord(ra=owls_sheet['ra'], dec=owls_sheet['dec'], unit=(u.hourangle, u.deg))\n",
    "\n",
    "owls_cols = list(owls_sheet.columns)\n",
    "idx1, idx2 = search_around_sky(owls_coords, planet_coords, 2*u.arcmin)[:2]\n",
    "\n",
    "planets_cols = list(pd.Series(planets.colnames).drop_duplicates().values) #list(planets.colnames) + ['pl_hostname']\n",
    "\n",
    "# Find planets that have matching OWLS coordinates within 5 arcsec\n",
    "owls_sheet_reind = owls_sheet[owls_cols]\n",
    "owls_sheet_reind.index = np.arange(len(owls_sheet_reind))\n",
    "\n",
    "owls_planets = pd.merge(\n",
    "    owls_sheet_reind, planets[idx2][planets_cols].to_pandas(), left_on='pl_hostname', right_on='hostname'# levels=['pl_hostname', 'pl_name']\n",
    ")\n",
    "owls_planets.index = owls_planets['pl_letter']\n",
    "groups = dict()\n",
    "for name, group in owls_planets.groupby('pl_hostname'):\n",
    "    groups[name] = group.reindex(index=list(group['pl_letter']))\n",
    "owls_planets = pd.concat(groups)"
   ]
  },
  {
   "cell_type": "code",
   "execution_count": null,
   "id": "b0c720b8-2e15-4847-8b6d-f21a2f293412",
   "metadata": {},
   "outputs": [],
   "source": [
    "planet_coords = SkyCoord(ra=planets['ra'], dec=planets['dec'])\n",
    "owls_coords = SkyCoord(ra=owls_sheet['ra'], dec=owls_sheet['dec'], unit=(u.hourangle, u.deg))"
   ]
  },
  {
   "cell_type": "code",
   "execution_count": null,
   "id": "35c79f2d-4f1c-407c-a3bb-1b27ade42ca2",
   "metadata": {},
   "outputs": [],
   "source": [
    "idx1, idx2 = search_around_sky(owls_coords, planet_coords, 2*u.arcmin)[:2]"
   ]
  },
  {
   "cell_type": "code",
   "execution_count": null,
   "id": "b6d81597-a0c4-413d-ac5d-65bd4357161d",
   "metadata": {},
   "outputs": [],
   "source": [
    "owls_cols = list(owls_sheet.columns)\n",
    "\n",
    "planets_cols = list(pd.Series(planets.colnames).drop_duplicates().values) #list(planets.colnames) + ['pl_hostname']\n",
    "drop_planets_keys = list(set(owls_sheet_reind.columns).intersection(set(planets.colnames)))\n",
    "for k in drop_planets_keys:\n",
    "    planets_cols.pop(planets_cols.index(k))"
   ]
  },
  {
   "cell_type": "code",
   "execution_count": null,
   "id": "6322dc16-ce10-4261-b715-12ecd15fd132",
   "metadata": {},
   "outputs": [],
   "source": [
    "# Find planets that have matching OWLS coordinates within 5 arcsec\n",
    "owls_sheet_reind = owls_sheet[owls_cols] # .iloc[idx1]\n",
    "owls_sheet_reind.index = np.arange(len(owls_sheet_reind)) #planets[idx2]['pl_name'].value\n",
    "\n",
    "owls_planets = pd.merge(\n",
    "    owls_sheet_reind, planets[idx2][planets_cols].to_pandas(), left_on='pl_hostname', right_on='hostname'# levels=['pl_hostname', 'pl_name']\n",
    ")\n",
    "owls_planets.index = owls_planets['pl_letter']\n",
    "groups = dict()\n",
    "for name, group in owls_planets.groupby('pl_hostname'):\n",
    "    groups[name] = group.reindex(index=list(group['pl_letter']))\n",
    "owls_planets = pd.concat(groups)"
   ]
  },
  {
   "cell_type": "code",
   "execution_count": null,
   "id": "f78ab47d-dafd-4613-b7e4-5a0df5193cbe",
   "metadata": {},
   "outputs": [],
   "source": [
    "short_prot_flag = (\n",
    "    (~np.isnan(owls_planets['st_rotp']) & \n",
    "     (owls_planets['st_rotp'] < 10)) | \n",
    "    ((owls_planets['Prot_phot_days'] < 10) & \n",
    "     (owls_planets['Prot_phot_days'] > 0))\n",
    ")\n",
    "\n",
    "short_prot_flag_planet_bs = (\n",
    "    (~np.isnan(owls_planets[owls_planets['pl_letter'] == 'b']['st_rotp']) & \n",
    "     (owls_planets[owls_planets['pl_letter'] == 'b']['st_rotp'] < 10)) | \n",
    "    ((owls_planets[owls_planets['pl_letter'] == 'b']['Prot_phot_days'] < 10) & \n",
    "     (owls_planets[owls_planets['pl_letter'] == 'b']['Prot_phot_days'] > 0))\n",
    ")"
   ]
  },
  {
   "cell_type": "code",
   "execution_count": null,
   "id": "f765f111-13c6-46b6-83b8-cd96b572687d",
   "metadata": {},
   "outputs": [],
   "source": [
    "vansaders2012 = Table.read(\"data/vanSaders2012.txt\", format='ascii')"
   ]
  },
  {
   "cell_type": "code",
   "execution_count": null,
   "id": "11356a51-ee8b-4d7e-9409-0c420526d549",
   "metadata": {},
   "outputs": [],
   "source": [
    "tmp = vansaders2012[['Mass', 'Age', 'Teff']]"
   ]
  },
  {
   "cell_type": "code",
   "execution_count": null,
   "id": "a3417c6f-a904-4da4-949c-9450a9727899",
   "metadata": {},
   "outputs": [],
   "source": [
    "arr = vansaders2012[['Mass', 'Age', 'Teff']]\n",
    "arr.sort(\"Mass\")\n",
    "arr = arr.as_array()\n",
    "\n",
    "# make uniform ages for each target by taking mean of all available refs\n",
    "for target, group in owls_planets.groupby('hostname'):\n",
    "    owls_planets.loc[target, 'st_age'] = group['st_age'].mean()"
   ]
  },
  {
   "cell_type": "code",
   "execution_count": null,
   "id": "239c13c0-fc0c-4c08-a3d5-9f62ea2c6982",
   "metadata": {},
   "outputs": [],
   "source": [
    "ncols = 32\n",
    "dtypes = ncols * [float,]\n",
    "dtypes[0] = \"U16\"\n",
    "dtypes[-1] = \"U16\"\n",
    "\n",
    "colnames = \"SpT   Teff  logT   BCv    logL   Mbol R_Rsun   Mv    B-V    Bt-Vt  G-V    Bp-Rp  G-Rp   M_G    b-y    U-B    V-Rc   V-Ic   V-Ks   J-H    H-Ks   M_J    M_Ks   Ks-W1   W1-W2  W1-W3  W1-W4   g-r   i-z  z-Y  Msun SpT2\".split()\n",
    "\n",
    "mamajek = Table(np.genfromtxt(\"data/EEM_dwarf_UBVIJHK_colors_Teff.txt\", dtype=dtypes), names=colnames)\n",
    "mamajek.add_index(\"SpT\")\n",
    "estimated_owls_teffs = mamajek.loc[[s if not s.endswith('e') else s[:-1] for s in owls_planets['sp_type_mamajek']]]['Teff'].data\n",
    "estimated_owls_mass = mamajek.loc[[s if not s.endswith('e') else s[:-1] for s in owls_planets['sp_type_mamajek']]]['Msun'].data\n",
    "\n",
    "owls_planets['st_teff_mamajek'] = estimated_owls_teffs\n",
    "owls_planets['st_mass_mamajek'] = estimated_owls_mass"
   ]
  },
  {
   "cell_type": "code",
   "execution_count": null,
   "id": "715c0628-57f7-496e-bdc8-8ed7c0576b79",
   "metadata": {},
   "outputs": [],
   "source": [
    "interp = LinearNDInterpolator(\n",
    "    np.vstack(arr.tolist()), vansaders2012['Rcz/R'].data, rescale=True, \n",
    "    # fill the rest with unity since they're likely fully convective stars\n",
    "    fill_value=1\n",
    ")\n",
    "\n",
    "epsilons = []\n",
    "for i, table in enumerate([planets.to_pandas(), owls_planets]):\n",
    "    # feh = owls_planets['st_met'].values\n",
    "    st_mass = table['st_mass'].values\n",
    "    st_age = table['st_age'].values\n",
    "    st_teff = table['st_teff'].values\n",
    "    \n",
    "    if i == 0:\n",
    "        st_mass[np.isnan(st_mass)] = 1\n",
    "        st_age[np.isnan(st_age)] = 10\n",
    "        st_teff[np.isnan(st_teff)] = 5700\n",
    "\n",
    "    else:\n",
    "        st_mass[np.isnan(st_mass)] = owls_planets['st_mass_mamajek'].iloc[np.isnan(st_mass)]\n",
    "        st_age[np.isnan(st_age)] = 10\n",
    "        st_teff[np.isnan(st_teff)] = owls_planets['st_teff_mamajek'].iloc[np.isnan(st_teff)]\n",
    "        \n",
    "    Rcz = interp(st_mass, st_age, st_teff)\n",
    "    rad_unit = float(1 * u.R_sun / u.AU)\n",
    "    mass_unit = float(1 * u.M_jup / u.M_sun)\n",
    "    planet_mass = table['pl_bmassj']\n",
    "    stellar_radius = table['st_rad']\n",
    "    smax = table['pl_orbsmax']\n",
    "    \n",
    "    epsilon = (\n",
    "        (mass_unit * planet_mass / st_mass) * \n",
    "        (rad_unit * Rcz * stellar_radius / smax) ** 3\n",
    "    )\n",
    "    # print(epsilon)\n",
    "\n",
    "    epsilons.append(pd.Series(epsilon, table.index))"
   ]
  },
  {
   "cell_type": "code",
   "execution_count": null,
   "id": "3531bf0b-5d0b-4168-bfcf-909faaaee091",
   "metadata": {},
   "outputs": [],
   "source": [
    "plt.hist(np.log10(epsilons[0]), 30, log=True, label='All known planets');\n",
    "plt.hist(np.log10(epsilons[1]), 30, log=True, label='OWLS planets');\n",
    "plt.gca().set(\n",
    "    xlabel='$\\\\log_{10} \\\\varepsilon$', \n",
    "    ylabel='Targets',\n",
    "    title='$\\\\varepsilon \\\\rightarrow 1$ = stronger tides'\n",
    ")\n",
    "plt.legend()\n",
    "plt.savefig('plots/epsilon.pdf')"
   ]
  },
  {
   "cell_type": "code",
   "execution_count": null,
   "id": "4e5c87c0-7703-4b98-addc-a3557b2f566a",
   "metadata": {},
   "outputs": [],
   "source": []
  }
 ],
 "metadata": {
  "kernelspec": {
   "display_name": "Python 3 (ipykernel)",
   "language": "python",
   "name": "python3"
  },
  "language_info": {
   "codemirror_mode": {
    "name": "ipython",
    "version": 3
   },
   "file_extension": ".py",
   "mimetype": "text/x-python",
   "name": "python",
   "nbconvert_exporter": "python",
   "pygments_lexer": "ipython3",
   "version": "3.9.13"
  }
 },
 "nbformat": 4,
 "nbformat_minor": 5
}
